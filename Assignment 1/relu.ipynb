{
 "cells": [
  {
   "cell_type": "code",
   "execution_count": 3,
   "metadata": {},
   "outputs": [],
   "source": [
    "import numpy\n",
    "from keras.datasets import mnist\n",
    "from keras.models import Sequential\n",
    "from keras.layers import Dense\n",
    "from keras.layers import Dropout\n",
    "from keras.utils import np_utils\n",
    "from keras import regularizers"
   ]
  },
  {
   "cell_type": "code",
   "execution_count": 4,
   "metadata": {},
   "outputs": [
    {
     "data": {
      "text/plain": [
       "<matplotlib.figure.Figure at 0x7f31ba639e48>"
      ]
     },
     "metadata": {},
     "output_type": "display_data"
    }
   ],
   "source": [
    "import matplotlib.pyplot as plt\n",
    "# load (downloaded if needed) the MNIST dataset\n",
    "(X_train, y_train), (X_test, y_test) = mnist.load_data()\n",
    "# plot 4 images as gray scale\n",
    "plt.subplot(221)\n",
    "plt.imshow(X_train[0], cmap=plt.get_cmap('gray'))\n",
    "plt.subplot(222)\n",
    "plt.imshow(X_train[1], cmap=plt.get_cmap('gray'))\n",
    "plt.subplot(223)\n",
    "plt.imshow(X_train[2], cmap=plt.get_cmap('gray'))\n",
    "plt.subplot(224)\n",
    "plt.imshow(X_train[3], cmap=plt.get_cmap('gray'))\n",
    "# show the plot\n",
    "plt.show()"
   ]
  },
  {
   "cell_type": "code",
   "execution_count": 5,
   "metadata": {},
   "outputs": [],
   "source": [
    "# fix random seed for reproducibility\n",
    "seed = 7\n",
    "numpy.random.seed(seed)\n",
    "\n",
    "# load data\n",
    "(X_train, y_train), (X_test, y_test) = mnist.load_data()"
   ]
  },
  {
   "cell_type": "code",
   "execution_count": 6,
   "metadata": {},
   "outputs": [],
   "source": [
    "# flatten 28*28 images to a 784 vector for each image\n",
    "num_pixels = X_train.shape[1] * X_train.shape[2]\n",
    "X_train = X_train.reshape(X_train.shape[0], num_pixels).astype('float32')\n",
    "X_test = X_test.reshape(X_test.shape[0], num_pixels).astype('float32')"
   ]
  },
  {
   "cell_type": "code",
   "execution_count": 8,
   "metadata": {},
   "outputs": [],
   "source": [
    "# normalize inputs from 0-255 to 0-1\n",
    "X_train = X_train / 255\n",
    "X_test = X_test / 255"
   ]
  },
  {
   "cell_type": "code",
   "execution_count": 9,
   "metadata": {},
   "outputs": [],
   "source": [
    "# one hot encode outputs\n",
    "y_train = np_utils.to_categorical(y_train)\n",
    "y_test = np_utils.to_categorical(y_test)\n",
    "num_classes = y_test.shape[1]"
   ]
  },
  {
   "cell_type": "code",
   "execution_count": 10,
   "metadata": {},
   "outputs": [],
   "source": [
    "# define baseline model\n",
    "def baseline_model(num_hidden, num_neurons):\n",
    "    # create model\n",
    "    model = Sequential()\n",
    "    model.add(Dense(num_pixels, input_dim=num_pixels, kernel_initializer='normal', activation='relu'))\n",
    "    for i in range(num_hidden):\n",
    "        model.add(Dense(int(num_pixels/(2**(num_neurons))), kernel_initializer='normal', activation='relu'))\n",
    "    model.add(Dense(num_classes, kernel_initializer='normal', activation='softmax'))\n",
    "    # Compile model\n",
    "    model.compile(loss='categorical_crossentropy', optimizer='adagrad', metrics=['accuracy'])\n",
    "    return model"
   ]
  },
  {
   "cell_type": "code",
   "execution_count": 10,
   "metadata": {},
   "outputs": [
    {
     "name": "stdout",
     "output_type": "stream",
     "text": [
      "Train on 60000 samples, validate on 10000 samples\n",
      "Epoch 1/10\n",
      " - 11s - loss: 0.2318 - acc: 0.9317 - val_loss: 0.1008 - val_acc: 0.9692\n",
      "Epoch 2/10\n",
      " - 10s - loss: 0.0762 - acc: 0.9774 - val_loss: 0.0777 - val_acc: 0.9763\n",
      "Epoch 3/10\n",
      " - 12s - loss: 0.0499 - acc: 0.9856 - val_loss: 0.0635 - val_acc: 0.9807\n",
      "Epoch 4/10\n",
      " - 11s - loss: 0.0339 - acc: 0.9909 - val_loss: 0.0608 - val_acc: 0.9804\n",
      "Epoch 5/10\n",
      " - 17s - loss: 0.0245 - acc: 0.9940 - val_loss: 0.0591 - val_acc: 0.9827\n",
      "Epoch 6/10\n",
      " - 22s - loss: 0.0178 - acc: 0.9964 - val_loss: 0.0578 - val_acc: 0.9828\n",
      "Epoch 7/10\n",
      " - 24s - loss: 0.0130 - acc: 0.9977 - val_loss: 0.0561 - val_acc: 0.9828\n",
      "Epoch 8/10\n",
      " - 27s - loss: 0.0097 - acc: 0.9985 - val_loss: 0.0560 - val_acc: 0.9834\n",
      "Epoch 9/10\n",
      " - 25s - loss: 0.0072 - acc: 0.9993 - val_loss: 0.0568 - val_acc: 0.9836\n",
      "Epoch 10/10\n",
      " - 27s - loss: 0.0057 - acc: 0.9996 - val_loss: 0.0565 - val_acc: 0.9840\n",
      "Baseline Error: 1.60%\n",
      "Train on 60000 samples, validate on 10000 samples\n",
      "Epoch 1/10\n",
      " - 23s - loss: 0.2463 - acc: 0.9247 - val_loss: 0.1124 - val_acc: 0.9661\n",
      "Epoch 2/10\n",
      " - 24s - loss: 0.0868 - acc: 0.9744 - val_loss: 0.0820 - val_acc: 0.9743\n",
      "Epoch 3/10\n",
      " - 22s - loss: 0.0584 - acc: 0.9832 - val_loss: 0.0690 - val_acc: 0.9776\n",
      "Epoch 4/10\n",
      " - 24s - loss: 0.0429 - acc: 0.9875 - val_loss: 0.0659 - val_acc: 0.9796\n",
      "Epoch 5/10\n",
      " - 23s - loss: 0.0322 - acc: 0.9913 - val_loss: 0.0613 - val_acc: 0.9808\n",
      "Epoch 6/10\n",
      " - 24s - loss: 0.0245 - acc: 0.9938 - val_loss: 0.0594 - val_acc: 0.9816\n",
      "Epoch 7/10\n",
      " - 20s - loss: 0.0191 - acc: 0.9958 - val_loss: 0.0578 - val_acc: 0.9819\n",
      "Epoch 8/10\n",
      " - 22s - loss: 0.0153 - acc: 0.9969 - val_loss: 0.0569 - val_acc: 0.9839\n",
      "Epoch 9/10\n",
      " - 22s - loss: 0.0123 - acc: 0.9981 - val_loss: 0.0568 - val_acc: 0.9824\n",
      "Epoch 10/10\n",
      " - 22s - loss: 0.0099 - acc: 0.9986 - val_loss: 0.0571 - val_acc: 0.9832\n",
      "Baseline Error: 1.68%\n",
      "Train on 60000 samples, validate on 10000 samples\n",
      "Epoch 1/10\n",
      " - 21s - loss: 0.2864 - acc: 0.9170 - val_loss: 0.1385 - val_acc: 0.9582\n",
      "Epoch 2/10\n",
      " - 21s - loss: 0.1094 - acc: 0.9681 - val_loss: 0.0964 - val_acc: 0.9704\n",
      "Epoch 3/10\n",
      " - 21s - loss: 0.0784 - acc: 0.9775 - val_loss: 0.0817 - val_acc: 0.9748\n",
      "Epoch 4/10\n",
      " - 24s - loss: 0.0611 - acc: 0.9826 - val_loss: 0.0772 - val_acc: 0.9755\n",
      "Epoch 5/10\n",
      " - 21s - loss: 0.0495 - acc: 0.9860 - val_loss: 0.0704 - val_acc: 0.9781\n",
      "Epoch 6/10\n",
      " - 22s - loss: 0.0406 - acc: 0.9887 - val_loss: 0.0652 - val_acc: 0.9803\n",
      "Epoch 7/10\n",
      " - 20s - loss: 0.0340 - acc: 0.9911 - val_loss: 0.0669 - val_acc: 0.9790\n",
      "Epoch 8/10\n",
      " - 21s - loss: 0.0290 - acc: 0.9930 - val_loss: 0.0609 - val_acc: 0.9810\n",
      "Epoch 9/10\n",
      " - 20s - loss: 0.0247 - acc: 0.9943 - val_loss: 0.0637 - val_acc: 0.9803\n",
      "Epoch 10/10\n",
      " - 21s - loss: 0.0214 - acc: 0.9954 - val_loss: 0.0587 - val_acc: 0.9816\n",
      "Baseline Error: 1.84%\n",
      "Train on 60000 samples, validate on 10000 samples\n",
      "Epoch 1/10\n",
      " - 21s - loss: 0.2842 - acc: 0.9147 - val_loss: 0.1460 - val_acc: 0.9562\n",
      "Epoch 2/10\n",
      " - 19s - loss: 0.1239 - acc: 0.9636 - val_loss: 0.1114 - val_acc: 0.9668\n",
      "Epoch 3/10\n",
      " - 21s - loss: 0.0913 - acc: 0.9735 - val_loss: 0.0901 - val_acc: 0.9726\n",
      "Epoch 4/10\n",
      " - 20s - loss: 0.0731 - acc: 0.9792 - val_loss: 0.0838 - val_acc: 0.9740\n",
      "Epoch 5/10\n",
      " - 21s - loss: 0.0610 - acc: 0.9823 - val_loss: 0.0757 - val_acc: 0.9761\n",
      "Epoch 6/10\n",
      " - 20s - loss: 0.0518 - acc: 0.9856 - val_loss: 0.0738 - val_acc: 0.9777\n",
      "Epoch 7/10\n",
      " - 19s - loss: 0.0448 - acc: 0.9875 - val_loss: 0.0685 - val_acc: 0.9788\n",
      "Epoch 8/10\n",
      " - 19s - loss: 0.0391 - acc: 0.9895 - val_loss: 0.0659 - val_acc: 0.9792\n",
      "Epoch 9/10\n",
      " - 21s - loss: 0.0343 - acc: 0.9909 - val_loss: 0.0638 - val_acc: 0.9797\n",
      "Epoch 10/10\n",
      " - 19s - loss: 0.0306 - acc: 0.9923 - val_loss: 0.0634 - val_acc: 0.9800\n",
      "Baseline Error: 2.00%\n",
      "Train on 60000 samples, validate on 10000 samples\n",
      "Epoch 1/10\n",
      " - 35s - loss: 0.2619 - acc: 0.9272 - val_loss: 0.0915 - val_acc: 0.9699\n",
      "Epoch 2/10\n",
      " - 35s - loss: 0.0674 - acc: 0.9794 - val_loss: 0.0719 - val_acc: 0.9786\n",
      "Epoch 3/10\n",
      " - 30s - loss: 0.0377 - acc: 0.9885 - val_loss: 0.0697 - val_acc: 0.9785\n",
      "Epoch 4/10\n",
      " - 28s - loss: 0.0220 - acc: 0.9941 - val_loss: 0.0621 - val_acc: 0.9812\n",
      "Epoch 5/10\n",
      " - 30s - loss: 0.0133 - acc: 0.9969 - val_loss: 0.0623 - val_acc: 0.9809\n",
      "Epoch 6/10\n",
      " - 33s - loss: 0.0082 - acc: 0.9984 - val_loss: 0.0626 - val_acc: 0.9823\n",
      "Epoch 7/10\n",
      " - 32s - loss: 0.0046 - acc: 0.9993 - val_loss: 0.0618 - val_acc: 0.9828\n",
      "Epoch 8/10\n",
      " - 32s - loss: 0.0029 - acc: 0.9997 - val_loss: 0.0628 - val_acc: 0.9827\n",
      "Epoch 9/10\n",
      " - 31s - loss: 0.0019 - acc: 0.9999 - val_loss: 0.0647 - val_acc: 0.9828\n",
      "Epoch 10/10\n",
      " - 36s - loss: 0.0013 - acc: 1.0000 - val_loss: 0.0658 - val_acc: 0.9828\n",
      "Baseline Error: 1.72%\n",
      "Train on 60000 samples, validate on 10000 samples\n",
      "Epoch 1/10\n",
      " - 31s - loss: 0.2689 - acc: 0.9178 - val_loss: 0.1038 - val_acc: 0.9673\n",
      "Epoch 2/10\n",
      " - 33s - loss: 0.0824 - acc: 0.9752 - val_loss: 0.0792 - val_acc: 0.9749\n",
      "Epoch 3/10\n",
      " - 32s - loss: 0.0524 - acc: 0.9843 - val_loss: 0.0660 - val_acc: 0.9790\n",
      "Epoch 4/10\n",
      " - 29s - loss: 0.0356 - acc: 0.9898 - val_loss: 0.0638 - val_acc: 0.9790\n",
      "Epoch 5/10\n",
      " - 25s - loss: 0.0242 - acc: 0.9933 - val_loss: 0.0599 - val_acc: 0.9801\n",
      "Epoch 6/10\n",
      " - 24s - loss: 0.0172 - acc: 0.9959 - val_loss: 0.0561 - val_acc: 0.9815\n",
      "Epoch 7/10\n",
      " - 23s - loss: 0.0117 - acc: 0.9975 - val_loss: 0.0573 - val_acc: 0.9823\n",
      "Epoch 8/10\n",
      " - 29s - loss: 0.0083 - acc: 0.9987 - val_loss: 0.0572 - val_acc: 0.9825\n",
      "Epoch 9/10\n",
      " - 35s - loss: 0.0058 - acc: 0.9992 - val_loss: 0.0601 - val_acc: 0.9816\n",
      "Epoch 10/10\n",
      " - 32s - loss: 0.0042 - acc: 0.9996 - val_loss: 0.0623 - val_acc: 0.9818\n",
      "Baseline Error: 1.82%\n",
      "Train on 60000 samples, validate on 10000 samples\n",
      "Epoch 1/10\n",
      " - 27s - loss: 0.2856 - acc: 0.9109 - val_loss: 0.1211 - val_acc: 0.9629\n",
      "Epoch 2/10\n",
      " - 28s - loss: 0.0996 - acc: 0.9704 - val_loss: 0.0907 - val_acc: 0.9727\n",
      "Epoch 3/10\n",
      " - 28s - loss: 0.0697 - acc: 0.9792 - val_loss: 0.0758 - val_acc: 0.9760\n",
      "Epoch 4/10\n",
      " - 24s - loss: 0.0514 - acc: 0.9848 - val_loss: 0.0695 - val_acc: 0.9785\n",
      "Epoch 5/10\n",
      " - 23s - loss: 0.0392 - acc: 0.9888 - val_loss: 0.0682 - val_acc: 0.9775\n",
      "Epoch 6/10\n",
      " - 20s - loss: 0.0306 - acc: 0.9913 - val_loss: 0.0655 - val_acc: 0.9793\n",
      "Epoch 7/10\n",
      " - 20s - loss: 0.0242 - acc: 0.9938 - val_loss: 0.0659 - val_acc: 0.9790\n",
      "Epoch 8/10\n",
      " - 20s - loss: 0.0197 - acc: 0.9951 - val_loss: 0.0597 - val_acc: 0.9817\n",
      "Epoch 9/10\n",
      " - 21s - loss: 0.0155 - acc: 0.9967 - val_loss: 0.0607 - val_acc: 0.9813\n",
      "Epoch 10/10\n",
      " - 22s - loss: 0.0126 - acc: 0.9976 - val_loss: 0.0628 - val_acc: 0.9810\n",
      "Baseline Error: 1.90%\n",
      "Train on 60000 samples, validate on 10000 samples\n",
      "Epoch 1/10\n",
      " - 22s - loss: 0.3343 - acc: 0.8964 - val_loss: 0.1624 - val_acc: 0.9507\n",
      "Epoch 2/10\n",
      " - 22s - loss: 0.1323 - acc: 0.9612 - val_loss: 0.1223 - val_acc: 0.9630\n",
      "Epoch 3/10\n",
      " - 21s - loss: 0.0983 - acc: 0.9710 - val_loss: 0.0992 - val_acc: 0.9690\n",
      "Epoch 4/10\n",
      " - 21s - loss: 0.0795 - acc: 0.9768 - val_loss: 0.0865 - val_acc: 0.9731\n",
      "Epoch 5/10\n",
      " - 20s - loss: 0.0663 - acc: 0.9806 - val_loss: 0.0821 - val_acc: 0.9755\n",
      "Epoch 6/10\n",
      " - 19s - loss: 0.0564 - acc: 0.9837 - val_loss: 0.0769 - val_acc: 0.9757\n",
      "Epoch 7/10\n",
      " - 20s - loss: 0.0487 - acc: 0.9862 - val_loss: 0.0741 - val_acc: 0.9768\n",
      "Epoch 8/10\n",
      " - 21s - loss: 0.0426 - acc: 0.9877 - val_loss: 0.0700 - val_acc: 0.9780\n",
      "Epoch 9/10\n",
      " - 22s - loss: 0.0371 - acc: 0.9897 - val_loss: 0.0686 - val_acc: 0.9789\n",
      "Epoch 10/10\n",
      " - 22s - loss: 0.0328 - acc: 0.9914 - val_loss: 0.0666 - val_acc: 0.9791\n",
      "Baseline Error: 2.09%\n"
     ]
    }
   ],
   "source": [
    "for i in range(1, 3):\n",
    "    for j in range(1, 5):\n",
    "        # build the model\n",
    "        model = baseline_model(i, j)\n",
    "        # Fit the model\n",
    "        model.fit(X_train, y_train, validation_data=(X_test, y_test), epochs=10, batch_size=200, verbose=2)\n",
    "        # Final evaluation of the model\n",
    "        scores = model.evaluate(X_test, y_test, verbose=0)\n",
    "        print(\"Baseline Error: %.2f%%\" % (100-scores[1]*100))"
   ]
  },
  {
   "cell_type": "code",
   "execution_count": 11,
   "metadata": {},
   "outputs": [
    {
     "name": "stdout",
     "output_type": "stream",
     "text": [
      "Train on 60000 samples, validate on 10000 samples\n",
      "Epoch 1/10\n",
      " - 22s - loss: 0.7969 - acc: 0.7285 - val_loss: 0.4640 - val_acc: 0.8598\n",
      "Epoch 2/10\n",
      " - 21s - loss: 0.4178 - acc: 0.8753 - val_loss: 0.3565 - val_acc: 0.8934\n",
      "Epoch 3/10\n",
      " - 27s - loss: 0.3384 - acc: 0.8997 - val_loss: 0.3114 - val_acc: 0.9048\n",
      "Epoch 4/10\n",
      " - 25s - loss: 0.2909 - acc: 0.9128 - val_loss: 0.2799 - val_acc: 0.9134\n",
      "Epoch 5/10\n"
     ]
    },
    {
     "ename": "KeyboardInterrupt",
     "evalue": "",
     "output_type": "error",
     "traceback": [
      "\u001b[0;31m---------------------------------------------------------------------------\u001b[0m",
      "\u001b[0;31mKeyboardInterrupt\u001b[0m                         Traceback (most recent call last)",
      "\u001b[0;32m<ipython-input-11-cb381ffc9023>\u001b[0m in \u001b[0;36m<module>\u001b[0;34m()\u001b[0m\n\u001b[1;32m      2\u001b[0m \u001b[0mmodel\u001b[0m \u001b[0;34m=\u001b[0m \u001b[0mbaseline_model\u001b[0m\u001b[0;34m(\u001b[0m\u001b[0;36m2\u001b[0m\u001b[0;34m,\u001b[0m \u001b[0;36m1\u001b[0m\u001b[0;34m)\u001b[0m\u001b[0;34m\u001b[0m\u001b[0m\n\u001b[1;32m      3\u001b[0m \u001b[0;31m# Fit the model\u001b[0m\u001b[0;34m\u001b[0m\u001b[0;34m\u001b[0m\u001b[0m\n\u001b[0;32m----> 4\u001b[0;31m \u001b[0mresult\u001b[0m \u001b[0;34m=\u001b[0m \u001b[0mmodel\u001b[0m\u001b[0;34m.\u001b[0m\u001b[0mfit\u001b[0m\u001b[0;34m(\u001b[0m\u001b[0mX_train\u001b[0m\u001b[0;34m,\u001b[0m \u001b[0my_train\u001b[0m\u001b[0;34m,\u001b[0m \u001b[0mvalidation_data\u001b[0m\u001b[0;34m=\u001b[0m\u001b[0;34m(\u001b[0m\u001b[0mX_test\u001b[0m\u001b[0;34m,\u001b[0m \u001b[0my_test\u001b[0m\u001b[0;34m)\u001b[0m\u001b[0;34m,\u001b[0m \u001b[0mepochs\u001b[0m\u001b[0;34m=\u001b[0m\u001b[0;36m10\u001b[0m\u001b[0;34m,\u001b[0m \u001b[0mbatch_size\u001b[0m\u001b[0;34m=\u001b[0m\u001b[0;36m200\u001b[0m\u001b[0;34m,\u001b[0m \u001b[0mverbose\u001b[0m\u001b[0;34m=\u001b[0m\u001b[0;36m2\u001b[0m\u001b[0;34m)\u001b[0m\u001b[0;34m\u001b[0m\u001b[0m\n\u001b[0m\u001b[1;32m      5\u001b[0m \u001b[0;31m# Final evaluation of the model\u001b[0m\u001b[0;34m\u001b[0m\u001b[0;34m\u001b[0m\u001b[0m\n\u001b[1;32m      6\u001b[0m \u001b[0mscores\u001b[0m \u001b[0;34m=\u001b[0m \u001b[0mmodel\u001b[0m\u001b[0;34m.\u001b[0m\u001b[0mevaluate\u001b[0m\u001b[0;34m(\u001b[0m\u001b[0mX_test\u001b[0m\u001b[0;34m,\u001b[0m \u001b[0my_test\u001b[0m\u001b[0;34m,\u001b[0m \u001b[0mverbose\u001b[0m\u001b[0;34m=\u001b[0m\u001b[0;36m0\u001b[0m\u001b[0;34m)\u001b[0m\u001b[0;34m\u001b[0m\u001b[0m\n",
      "\u001b[0;32m/usr/local/lib/python3.5/dist-packages/keras/models.py\u001b[0m in \u001b[0;36mfit\u001b[0;34m(self, x, y, batch_size, epochs, verbose, callbacks, validation_split, validation_data, shuffle, class_weight, sample_weight, initial_epoch, steps_per_epoch, validation_steps, **kwargs)\u001b[0m\n\u001b[1;32m    961\u001b[0m                               \u001b[0minitial_epoch\u001b[0m\u001b[0;34m=\u001b[0m\u001b[0minitial_epoch\u001b[0m\u001b[0;34m,\u001b[0m\u001b[0;34m\u001b[0m\u001b[0m\n\u001b[1;32m    962\u001b[0m                               \u001b[0msteps_per_epoch\u001b[0m\u001b[0;34m=\u001b[0m\u001b[0msteps_per_epoch\u001b[0m\u001b[0;34m,\u001b[0m\u001b[0;34m\u001b[0m\u001b[0m\n\u001b[0;32m--> 963\u001b[0;31m                               validation_steps=validation_steps)\n\u001b[0m\u001b[1;32m    964\u001b[0m \u001b[0;34m\u001b[0m\u001b[0m\n\u001b[1;32m    965\u001b[0m     def evaluate(self, x=None, y=None,\n",
      "\u001b[0;32m/usr/local/lib/python3.5/dist-packages/keras/engine/training.py\u001b[0m in \u001b[0;36mfit\u001b[0;34m(self, x, y, batch_size, epochs, verbose, callbacks, validation_split, validation_data, shuffle, class_weight, sample_weight, initial_epoch, steps_per_epoch, validation_steps, **kwargs)\u001b[0m\n\u001b[1;32m   1710\u001b[0m                               \u001b[0minitial_epoch\u001b[0m\u001b[0;34m=\u001b[0m\u001b[0minitial_epoch\u001b[0m\u001b[0;34m,\u001b[0m\u001b[0;34m\u001b[0m\u001b[0m\n\u001b[1;32m   1711\u001b[0m                               \u001b[0msteps_per_epoch\u001b[0m\u001b[0;34m=\u001b[0m\u001b[0msteps_per_epoch\u001b[0m\u001b[0;34m,\u001b[0m\u001b[0;34m\u001b[0m\u001b[0m\n\u001b[0;32m-> 1712\u001b[0;31m                               validation_steps=validation_steps)\n\u001b[0m\u001b[1;32m   1713\u001b[0m \u001b[0;34m\u001b[0m\u001b[0m\n\u001b[1;32m   1714\u001b[0m     def evaluate(self, x=None, y=None,\n",
      "\u001b[0;32m/usr/local/lib/python3.5/dist-packages/keras/engine/training.py\u001b[0m in \u001b[0;36m_fit_loop\u001b[0;34m(self, f, ins, out_labels, batch_size, epochs, verbose, callbacks, val_f, val_ins, shuffle, callback_metrics, initial_epoch, steps_per_epoch, validation_steps)\u001b[0m\n\u001b[1;32m   1233\u001b[0m                         \u001b[0mins_batch\u001b[0m\u001b[0;34m[\u001b[0m\u001b[0mi\u001b[0m\u001b[0;34m]\u001b[0m \u001b[0;34m=\u001b[0m \u001b[0mins_batch\u001b[0m\u001b[0;34m[\u001b[0m\u001b[0mi\u001b[0m\u001b[0;34m]\u001b[0m\u001b[0;34m.\u001b[0m\u001b[0mtoarray\u001b[0m\u001b[0;34m(\u001b[0m\u001b[0;34m)\u001b[0m\u001b[0;34m\u001b[0m\u001b[0m\n\u001b[1;32m   1234\u001b[0m \u001b[0;34m\u001b[0m\u001b[0m\n\u001b[0;32m-> 1235\u001b[0;31m                     \u001b[0mouts\u001b[0m \u001b[0;34m=\u001b[0m \u001b[0mf\u001b[0m\u001b[0;34m(\u001b[0m\u001b[0mins_batch\u001b[0m\u001b[0;34m)\u001b[0m\u001b[0;34m\u001b[0m\u001b[0m\n\u001b[0m\u001b[1;32m   1236\u001b[0m                     \u001b[0;32mif\u001b[0m \u001b[0;32mnot\u001b[0m \u001b[0misinstance\u001b[0m\u001b[0;34m(\u001b[0m\u001b[0mouts\u001b[0m\u001b[0;34m,\u001b[0m \u001b[0mlist\u001b[0m\u001b[0;34m)\u001b[0m\u001b[0;34m:\u001b[0m\u001b[0;34m\u001b[0m\u001b[0m\n\u001b[1;32m   1237\u001b[0m                         \u001b[0mouts\u001b[0m \u001b[0;34m=\u001b[0m \u001b[0;34m[\u001b[0m\u001b[0mouts\u001b[0m\u001b[0;34m]\u001b[0m\u001b[0;34m\u001b[0m\u001b[0m\n",
      "\u001b[0;32m/usr/local/lib/python3.5/dist-packages/keras/backend/tensorflow_backend.py\u001b[0m in \u001b[0;36m__call__\u001b[0;34m(self, inputs)\u001b[0m\n\u001b[1;32m   2473\u001b[0m         \u001b[0msession\u001b[0m \u001b[0;34m=\u001b[0m \u001b[0mget_session\u001b[0m\u001b[0;34m(\u001b[0m\u001b[0;34m)\u001b[0m\u001b[0;34m\u001b[0m\u001b[0m\n\u001b[1;32m   2474\u001b[0m         updated = session.run(fetches=fetches, feed_dict=feed_dict,\n\u001b[0;32m-> 2475\u001b[0;31m                               **self.session_kwargs)\n\u001b[0m\u001b[1;32m   2476\u001b[0m         \u001b[0;32mreturn\u001b[0m \u001b[0mupdated\u001b[0m\u001b[0;34m[\u001b[0m\u001b[0;34m:\u001b[0m\u001b[0mlen\u001b[0m\u001b[0;34m(\u001b[0m\u001b[0mself\u001b[0m\u001b[0;34m.\u001b[0m\u001b[0moutputs\u001b[0m\u001b[0;34m)\u001b[0m\u001b[0;34m]\u001b[0m\u001b[0;34m\u001b[0m\u001b[0m\n\u001b[1;32m   2477\u001b[0m \u001b[0;34m\u001b[0m\u001b[0m\n",
      "\u001b[0;32m/usr/local/lib/python3.5/dist-packages/tensorflow/python/client/session.py\u001b[0m in \u001b[0;36mrun\u001b[0;34m(self, fetches, feed_dict, options, run_metadata)\u001b[0m\n\u001b[1;32m    893\u001b[0m     \u001b[0;32mtry\u001b[0m\u001b[0;34m:\u001b[0m\u001b[0;34m\u001b[0m\u001b[0m\n\u001b[1;32m    894\u001b[0m       result = self._run(None, fetches, feed_dict, options_ptr,\n\u001b[0;32m--> 895\u001b[0;31m                          run_metadata_ptr)\n\u001b[0m\u001b[1;32m    896\u001b[0m       \u001b[0;32mif\u001b[0m \u001b[0mrun_metadata\u001b[0m\u001b[0;34m:\u001b[0m\u001b[0;34m\u001b[0m\u001b[0m\n\u001b[1;32m    897\u001b[0m         \u001b[0mproto_data\u001b[0m \u001b[0;34m=\u001b[0m \u001b[0mtf_session\u001b[0m\u001b[0;34m.\u001b[0m\u001b[0mTF_GetBuffer\u001b[0m\u001b[0;34m(\u001b[0m\u001b[0mrun_metadata_ptr\u001b[0m\u001b[0;34m)\u001b[0m\u001b[0;34m\u001b[0m\u001b[0m\n",
      "\u001b[0;32m/usr/local/lib/python3.5/dist-packages/tensorflow/python/client/session.py\u001b[0m in \u001b[0;36m_run\u001b[0;34m(self, handle, fetches, feed_dict, options, run_metadata)\u001b[0m\n\u001b[1;32m   1126\u001b[0m     \u001b[0;32mif\u001b[0m \u001b[0mfinal_fetches\u001b[0m \u001b[0;32mor\u001b[0m \u001b[0mfinal_targets\u001b[0m \u001b[0;32mor\u001b[0m \u001b[0;34m(\u001b[0m\u001b[0mhandle\u001b[0m \u001b[0;32mand\u001b[0m \u001b[0mfeed_dict_tensor\u001b[0m\u001b[0;34m)\u001b[0m\u001b[0;34m:\u001b[0m\u001b[0;34m\u001b[0m\u001b[0m\n\u001b[1;32m   1127\u001b[0m       results = self._do_run(handle, final_targets, final_fetches,\n\u001b[0;32m-> 1128\u001b[0;31m                              feed_dict_tensor, options, run_metadata)\n\u001b[0m\u001b[1;32m   1129\u001b[0m     \u001b[0;32melse\u001b[0m\u001b[0;34m:\u001b[0m\u001b[0;34m\u001b[0m\u001b[0m\n\u001b[1;32m   1130\u001b[0m       \u001b[0mresults\u001b[0m \u001b[0;34m=\u001b[0m \u001b[0;34m[\u001b[0m\u001b[0;34m]\u001b[0m\u001b[0;34m\u001b[0m\u001b[0m\n",
      "\u001b[0;32m/usr/local/lib/python3.5/dist-packages/tensorflow/python/client/session.py\u001b[0m in \u001b[0;36m_do_run\u001b[0;34m(self, handle, target_list, fetch_list, feed_dict, options, run_metadata)\u001b[0m\n\u001b[1;32m   1342\u001b[0m     \u001b[0;32mif\u001b[0m \u001b[0mhandle\u001b[0m \u001b[0;32mis\u001b[0m \u001b[0;32mNone\u001b[0m\u001b[0;34m:\u001b[0m\u001b[0;34m\u001b[0m\u001b[0m\n\u001b[1;32m   1343\u001b[0m       return self._do_call(_run_fn, self._session, feeds, fetches, targets,\n\u001b[0;32m-> 1344\u001b[0;31m                            options, run_metadata)\n\u001b[0m\u001b[1;32m   1345\u001b[0m     \u001b[0;32melse\u001b[0m\u001b[0;34m:\u001b[0m\u001b[0;34m\u001b[0m\u001b[0m\n\u001b[1;32m   1346\u001b[0m       \u001b[0;32mreturn\u001b[0m \u001b[0mself\u001b[0m\u001b[0;34m.\u001b[0m\u001b[0m_do_call\u001b[0m\u001b[0;34m(\u001b[0m\u001b[0m_prun_fn\u001b[0m\u001b[0;34m,\u001b[0m \u001b[0mself\u001b[0m\u001b[0;34m.\u001b[0m\u001b[0m_session\u001b[0m\u001b[0;34m,\u001b[0m \u001b[0mhandle\u001b[0m\u001b[0;34m,\u001b[0m \u001b[0mfeeds\u001b[0m\u001b[0;34m,\u001b[0m \u001b[0mfetches\u001b[0m\u001b[0;34m)\u001b[0m\u001b[0;34m\u001b[0m\u001b[0m\n",
      "\u001b[0;32m/usr/local/lib/python3.5/dist-packages/tensorflow/python/client/session.py\u001b[0m in \u001b[0;36m_do_call\u001b[0;34m(self, fn, *args)\u001b[0m\n\u001b[1;32m   1348\u001b[0m   \u001b[0;32mdef\u001b[0m \u001b[0m_do_call\u001b[0m\u001b[0;34m(\u001b[0m\u001b[0mself\u001b[0m\u001b[0;34m,\u001b[0m \u001b[0mfn\u001b[0m\u001b[0;34m,\u001b[0m \u001b[0;34m*\u001b[0m\u001b[0margs\u001b[0m\u001b[0;34m)\u001b[0m\u001b[0;34m:\u001b[0m\u001b[0;34m\u001b[0m\u001b[0m\n\u001b[1;32m   1349\u001b[0m     \u001b[0;32mtry\u001b[0m\u001b[0;34m:\u001b[0m\u001b[0;34m\u001b[0m\u001b[0m\n\u001b[0;32m-> 1350\u001b[0;31m       \u001b[0;32mreturn\u001b[0m \u001b[0mfn\u001b[0m\u001b[0;34m(\u001b[0m\u001b[0;34m*\u001b[0m\u001b[0margs\u001b[0m\u001b[0;34m)\u001b[0m\u001b[0;34m\u001b[0m\u001b[0m\n\u001b[0m\u001b[1;32m   1351\u001b[0m     \u001b[0;32mexcept\u001b[0m \u001b[0merrors\u001b[0m\u001b[0;34m.\u001b[0m\u001b[0mOpError\u001b[0m \u001b[0;32mas\u001b[0m \u001b[0me\u001b[0m\u001b[0;34m:\u001b[0m\u001b[0;34m\u001b[0m\u001b[0m\n\u001b[1;32m   1352\u001b[0m       \u001b[0mmessage\u001b[0m \u001b[0;34m=\u001b[0m \u001b[0mcompat\u001b[0m\u001b[0;34m.\u001b[0m\u001b[0mas_text\u001b[0m\u001b[0;34m(\u001b[0m\u001b[0me\u001b[0m\u001b[0;34m.\u001b[0m\u001b[0mmessage\u001b[0m\u001b[0;34m)\u001b[0m\u001b[0;34m\u001b[0m\u001b[0m\n",
      "\u001b[0;32m/usr/local/lib/python3.5/dist-packages/tensorflow/python/client/session.py\u001b[0m in \u001b[0;36m_run_fn\u001b[0;34m(session, feed_dict, fetch_list, target_list, options, run_metadata)\u001b[0m\n\u001b[1;32m   1327\u001b[0m           return tf_session.TF_Run(session, options,\n\u001b[1;32m   1328\u001b[0m                                    \u001b[0mfeed_dict\u001b[0m\u001b[0;34m,\u001b[0m \u001b[0mfetch_list\u001b[0m\u001b[0;34m,\u001b[0m \u001b[0mtarget_list\u001b[0m\u001b[0;34m,\u001b[0m\u001b[0;34m\u001b[0m\u001b[0m\n\u001b[0;32m-> 1329\u001b[0;31m                                    status, run_metadata)\n\u001b[0m\u001b[1;32m   1330\u001b[0m \u001b[0;34m\u001b[0m\u001b[0m\n\u001b[1;32m   1331\u001b[0m     \u001b[0;32mdef\u001b[0m \u001b[0m_prun_fn\u001b[0m\u001b[0;34m(\u001b[0m\u001b[0msession\u001b[0m\u001b[0;34m,\u001b[0m \u001b[0mhandle\u001b[0m\u001b[0;34m,\u001b[0m \u001b[0mfeed_dict\u001b[0m\u001b[0;34m,\u001b[0m \u001b[0mfetch_list\u001b[0m\u001b[0;34m)\u001b[0m\u001b[0;34m:\u001b[0m\u001b[0;34m\u001b[0m\u001b[0m\n",
      "\u001b[0;31mKeyboardInterrupt\u001b[0m: "
     ]
    }
   ],
   "source": [
    "# build the model\n",
    "model = baseline_model(2, 1)\n",
    "# Fit the model\n",
    "result = model.fit(X_train, y_train, validation_data=(X_test, y_test), epochs=10, batch_size=200, verbose=2)\n",
    "# Final evaluation of the model\n",
    "scores = model.evaluate(X_test, y_test, verbose=0)\n",
    "print(\"Baseline Error: %.2f%%\" % (100-scores[1]*100))"
   ]
  },
  {
   "cell_type": "code",
   "execution_count": 43,
   "metadata": {},
   "outputs": [
    {
     "data": {
      "image/png": "[encoded data removed]",
      "text/plain": [
       "<matplotlib.figure.Figure at 0x7f9d809dca58>"
      ]
     },
     "metadata": {},
     "output_type": "display_data"
    },
    {
     "data": {
      "image/png": "[encoded data removed]",
      "text/plain": [
       "<matplotlib.figure.Figure at 0x7f9d809dbdd8>"
      ]
     },
     "metadata": {},
     "output_type": "display_data"
    }
   ],
   "source": [
    "plt.plot(result.history['acc'])\n",
    "plt.plot(result.history['val_acc'])\n",
    "plt.title('model accuracy')\n",
    "plt.ylabel('accuracy')\n",
    "plt.xlabel('epoch')\n",
    "plt.legend(['train', 'validation'], loc='upper left')\n",
    "plt.show()\n",
    "\n",
    "\n",
    "plt.plot(result.history['loss'])\n",
    "plt.plot(result.history['val_loss'])\n",
    "plt.title('model loss')\n",
    "plt.ylabel('loss')\n",
    "plt.xlabel('epoch')\n",
    "plt.legend(['train', 'validation'], loc='upper left')\n",
    "plt.show()"
   ]
  },
  {
   "cell_type": "code",
   "execution_count": null,
   "metadata": {},
   "outputs": [],
   "source": []
  }
 ],
 "metadata": {
  "kernelspec": {
   "display_name": "Python 3",
   "language": "python",
   "name": "python3"
  },
  "language_info": {
   "codemirror_mode": {
    "name": "ipython",
    "version": 3
   },
   "file_extension": ".py",
   "mimetype": "text/x-python",
   "name": "python",
   "nbconvert_exporter": "python",
   "pygments_lexer": "ipython3",
   "version": "3.5.2"
  }
 },
 "nbformat": 4,
 "nbformat_minor": 2
}
